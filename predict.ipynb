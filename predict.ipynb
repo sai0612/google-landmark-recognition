{
 "cells": [
  {
   "cell_type": "code",
   "execution_count": 1,
   "id": "interim-month",
   "metadata": {},
   "outputs": [
    {
     "name": "stderr",
     "output_type": "stream",
     "text": [
      "/home/csci8523/attan005/.local/lib/python3.8/site-packages/pandas/core/computation/expressions.py:20: UserWarning: Pandas requires version '2.7.3' or newer of 'numexpr' (version '2.7.1' currently installed).\n",
      "  from pandas.core.computation.check import NUMEXPR_INSTALLED\n"
     ]
    }
   ],
   "source": [
    "import os\n",
    "import pandas as pd\n",
    "import numpy as np\n",
    "import random\n",
    "import cv2\n",
    "\n",
    "import matplotlib.pyplot as plt\n",
    "import matplotlib.image as mpimg\n",
    "\n",
    "import tensorflow as tf\n",
    "from tensorflow.keras.utils import to_categorical\n",
    "from sklearn.model_selection import train_test_split\n",
    "from keras.preprocessing.image import ImageDataGenerator\n",
    "from keras.layers import Activation, Dense, Dropout, Flatten\n",
    "from keras.applications import DenseNet201\n",
    "from keras import Model"
   ]
  },
  {
   "cell_type": "code",
   "execution_count": 2,
   "id": "frozen-ocean",
   "metadata": {},
   "outputs": [],
   "source": [
    "pretrained_model = DenseNet201(input_shape=(128,128,3),\n",
    "                                            include_top=False,\n",
    "                                            weights='imagenet',\n",
    "                                            pooling='max')\n",
    "pretrained_model.trainable = False\n",
    "input_layer = pretrained_model.input\n",
    "dropout_layer1 = Dropout(0.25)(pretrained_model.output)\n",
    "dense_layer1 = Dense(512, activation='relu')(dropout_layer1)\n",
    "dense_layer2 = Dense(128, activation='relu')(dense_layer1)\n",
    "dropout_layer2 = Dropout(0.20)(dense_layer2)\n",
    "output_layer = Dense(116, activation='softmax')(dropout_layer2)\n",
    "model = Model(inputs=input_layer, outputs=output_layer)"
   ]
  },
  {
   "cell_type": "code",
   "execution_count": 3,
   "id": "mediterranean-vulnerability",
   "metadata": {},
   "outputs": [],
   "source": [
    "model.load_weights(\"model_dense.h5\")"
   ]
  },
  {
   "cell_type": "code",
   "execution_count": 4,
   "id": "dressed-constant",
   "metadata": {},
   "outputs": [
    {
     "name": "stdout",
     "output_type": "stream",
     "text": [
      "Images:  3690\n",
      "Image labels:  3690\n"
     ]
    }
   ],
   "source": [
    "valdf = pd.read_csv(\"val_clean_3.csv\")\n",
    "images_pixels = []\n",
    "temp_labels = []\n",
    "y_test_ids = []\n",
    "for ind in valdf.index:\n",
    "    img = valdf['images'][ind].split(\" \")[:-1]\n",
    "    for i in img:\n",
    "        finalpath = \"validation_images_model_3/\"+i\n",
    "        #print(finalpath)\n",
    "        img_pix = cv2.imread(finalpath,1)\n",
    "        images_pixels.append(cv2.resize(img_pix, (128,128)))\n",
    "        temp_labels.append(str(valdf['landmark_id'][ind]-1))\n",
    "        y_test_ids.append(i)\n",
    "#print(y_test_ids)\n",
    "shuf = list(zip(images_pixels,temp_labels, y_test_ids))\n",
    "random.shuffle(shuf)\n",
    "\n",
    "val_data, labels_data_val, y_test_ids = zip(*shuf)\n",
    "print('Images: ', len(val_data))\n",
    "print('Image labels: ', len(labels_data_val))\n",
    "X_data_val = np.array(val_data) / 255\n",
    "Y_data_val =  to_categorical(labels_data_val, num_classes = 116) "
   ]
  },
  {
   "cell_type": "code",
   "execution_count": 5,
   "id": "dental-minister",
   "metadata": {},
   "outputs": [
    {
     "name": "stdout",
     "output_type": "stream",
     "text": [
      "58/58 - 59s - 59s/epoch - 1s/step\n",
      "58/58 - 38s - 38s/epoch - 653ms/step\n",
      "[73 80 11 ... 33 37 52]\n",
      "[73 80 11 ... 35 37 30]\n"
     ]
    }
   ],
   "source": [
    "import csv\n",
    "y_pred = np.argmax(model.predict(X_data_val, batch_size = 64, verbose=2), axis=-1)\n",
    "y_pred_conf = model.predict(X_data_val, batch_size = 64, verbose=2)\n",
    "y_test = np.nonzero(Y_data_val)[1]\n",
    "#y_test = np.subtract(y_test, 1)\n",
    "with open(\"test_result_dense.csv\", 'w', encoding='UTF8', newline='') as tr:\n",
    "    writer = csv.writer(tr)\n",
    "    writer.writerow([\"image_id\", \"pred_landmark\", \"true_landmark\", \"confidence_score\"])\n",
    "    for i in range(len(y_pred)):\n",
    "        writer.writerow([y_test_ids[i], y_pred[i], y_test[i], np.max(y_pred_conf[i])])\n",
    "            \n",
    "print(y_pred)\n",
    "print(y_test)"
   ]
  },
  {
   "cell_type": "code",
   "execution_count": 6,
   "id": "productive-copper",
   "metadata": {},
   "outputs": [
    {
     "name": "stdout",
     "output_type": "stream",
     "text": [
      "Model predication accuracy: 0.553\n",
      "\n",
      "Classification report:\n",
      "               precision    recall  f1-score   support\n",
      "\n",
      "           0       0.43      0.56      0.49        16\n",
      "           1       0.40      0.22      0.29        18\n",
      "           2       0.44      0.39      0.41        18\n",
      "           3       0.16      0.27      0.20        15\n",
      "           4       0.54      0.41      0.47        17\n",
      "           5       0.59      0.40      0.47        43\n",
      "           6       0.80      0.95      0.87        21\n",
      "           7       0.56      0.58      0.57        26\n",
      "           8       0.48      0.56      0.52        57\n",
      "           9       0.63      0.73      0.68        49\n",
      "          10       0.60      0.67      0.63        45\n",
      "          11       0.82      0.77      0.80       115\n",
      "          12       0.71      0.75      0.73        20\n",
      "          13       0.25      0.28      0.26        18\n",
      "          14       0.56      0.60      0.58        15\n",
      "          15       0.26      0.31      0.29        16\n",
      "          16       0.25      0.25      0.25        20\n",
      "          17       0.09      0.06      0.07        34\n",
      "          18       0.67      0.83      0.74        29\n",
      "          19       0.50      0.60      0.55        25\n",
      "          20       0.68      0.45      0.55        33\n",
      "          21       0.65      0.81      0.72        16\n",
      "          22       0.50      0.53      0.51        38\n",
      "          23       0.31      0.50      0.38        20\n",
      "          24       0.38      0.45      0.42        22\n",
      "          25       0.25      0.12      0.17        24\n",
      "          26       0.79      0.74      0.77        31\n",
      "          27       0.82      0.72      0.77        25\n",
      "          28       0.62      0.51      0.56        41\n",
      "          29       0.50      0.43      0.46        30\n",
      "          30       0.43      0.36      0.39        28\n",
      "          31       0.52      0.65      0.58        20\n",
      "          32       0.66      0.68      0.67        34\n",
      "          33       0.56      0.59      0.57       117\n",
      "          34       0.50      0.56      0.53        18\n",
      "          35       0.50      0.52      0.51        21\n",
      "          36       0.40      0.53      0.45        19\n",
      "          37       0.50      0.25      0.33        20\n",
      "          38       0.33      0.33      0.33        39\n",
      "          39       0.82      0.96      0.89        28\n",
      "          40       0.24      0.14      0.17        29\n",
      "          41       0.49      0.51      0.50        39\n",
      "          42       0.86      0.93      0.89        59\n",
      "          43       0.61      0.63      0.62        27\n",
      "          44       0.48      0.43      0.45        35\n",
      "          45       0.30      0.26      0.28        87\n",
      "          46       1.00      0.87      0.93        23\n",
      "          47       0.68      0.59      0.63        22\n",
      "          48       0.26      0.26      0.26        19\n",
      "          49       0.89      0.64      0.74        61\n",
      "          50       0.85      0.72      0.78        46\n",
      "          51       0.05      0.06      0.05        16\n",
      "          52       0.40      0.94      0.56        63\n",
      "          53       0.65      0.69      0.67        35\n",
      "          54       0.43      0.62      0.51        32\n",
      "          55       0.58      0.57      0.58        37\n",
      "          56       0.64      0.67      0.65        21\n",
      "          57       0.32      0.38      0.35        50\n",
      "          58       0.82      0.86      0.84        36\n",
      "          59       0.47      0.41      0.44        17\n",
      "          60       0.20      0.25      0.22        20\n",
      "          61       0.40      0.31      0.35        26\n",
      "          62       0.00      0.00      0.00        16\n",
      "          63       0.40      0.34      0.37        41\n",
      "          64       0.55      0.67      0.60        18\n",
      "          65       0.56      0.60      0.58        30\n",
      "          66       0.64      0.47      0.55        19\n",
      "          67       0.95      0.80      0.86        44\n",
      "          68       0.42      0.46      0.44        24\n",
      "          69       0.73      0.64      0.68        25\n",
      "          70       0.18      0.12      0.14        17\n",
      "          71       0.67      0.32      0.43        19\n",
      "          72       0.51      0.56      0.54        39\n",
      "          73       0.48      0.56      0.51        18\n",
      "          74       0.73      0.79      0.76        24\n",
      "          75       0.64      0.82      0.72        28\n",
      "          76       0.36      0.60      0.45        20\n",
      "          77       0.47      0.33      0.39        21\n",
      "          78       0.80      0.60      0.69        20\n",
      "          79       0.60      0.63      0.62        19\n",
      "          80       0.90      0.83      0.86        46\n",
      "          81       0.58      0.52      0.55        63\n",
      "          82       0.17      0.26      0.20        23\n",
      "          83       0.35      0.27      0.31        22\n",
      "          84       0.72      0.60      0.66        35\n",
      "          85       0.61      0.68      0.64        25\n",
      "          86       0.59      0.45      0.51        29\n",
      "          87       0.46      0.46      0.46        13\n",
      "          88       0.68      0.65      0.67        26\n",
      "          89       0.44      0.46      0.45        24\n",
      "          90       0.71      0.73      0.72        41\n",
      "          91       0.44      0.71      0.55        17\n",
      "          92       0.77      0.65      0.71       249\n",
      "          93       0.52      0.57      0.55        21\n",
      "          94       0.52      0.60      0.55        47\n",
      "          95       0.56      0.53      0.55        17\n",
      "          96       0.41      0.72      0.52        18\n",
      "          97       0.36      0.22      0.27        23\n",
      "          98       0.70      0.82      0.76        17\n",
      "          99       0.45      0.29      0.36        17\n",
      "         100       0.51      0.47      0.49        87\n",
      "         101       0.23      0.28      0.25        18\n",
      "         102       0.50      0.52      0.51        21\n",
      "         103       0.39      0.39      0.39        31\n",
      "         104       0.65      0.80      0.71        25\n",
      "         105       0.47      0.29      0.36        24\n",
      "         106       0.64      0.37      0.47        19\n",
      "         107       0.29      0.07      0.12        27\n",
      "         108       0.29      0.31      0.30        16\n",
      "         109       0.75      0.58      0.65        26\n",
      "         110       0.52      0.65      0.58        17\n",
      "         111       0.56      0.51      0.53        59\n",
      "         112       0.32      0.50      0.39        18\n",
      "         113       0.71      0.85      0.77        20\n",
      "         114       0.43      0.27      0.33        22\n",
      "         115       1.00      1.00      1.00         4\n",
      "\n",
      "    accuracy                           0.55      3690\n",
      "   macro avg       0.53      0.52      0.52      3690\n",
      "weighted avg       0.56      0.55      0.55      3690\n",
      "\n"
     ]
    }
   ],
   "source": [
    "from sklearn.metrics import accuracy_score, classification_report\n",
    "accuracy = accuracy_score(y_test, y_pred)\n",
    "print(f'Model predication accuracy: {accuracy:.3f}')\n",
    "print(f'\\nClassification report:\\n {classification_report(y_test, y_pred)}')"
   ]
  },
  {
   "cell_type": "code",
   "execution_count": null,
   "id": "regular-solid",
   "metadata": {},
   "outputs": [],
   "source": []
  }
 ],
 "metadata": {
  "kernelspec": {
   "display_name": "Python3.8.3",
   "language": "python",
   "name": "python3.8.3"
  },
  "language_info": {
   "codemirror_mode": {
    "name": "ipython",
    "version": 3
   },
   "file_extension": ".py",
   "mimetype": "text/x-python",
   "name": "python",
   "nbconvert_exporter": "python",
   "pygments_lexer": "ipython3",
   "version": "3.8.3"
  }
 },
 "nbformat": 4,
 "nbformat_minor": 5
}
